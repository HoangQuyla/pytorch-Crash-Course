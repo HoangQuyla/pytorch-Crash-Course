{
  "nbformat": 4,
  "nbformat_minor": 0,
  "metadata": {
    "colab": {
      "name": "Pytorch introduction.ipynb",
      "provenance": []
    },
    "kernelspec": {
      "name": "python3",
      "display_name": "Python 3"
    },
    "language_info": {
      "name": "python"
    }
  },
  "cells": [
    {
      "cell_type": "code",
      "execution_count": 5,
      "metadata": {
        "colab": {
          "base_uri": "https://localhost:8080/"
        },
        "id": "YD-gLKRjR3Nt",
        "outputId": "460ca4f5-43c7-4928-86a4-08eebc20b4e3"
      },
      "outputs": [
        {
          "output_type": "stream",
          "name": "stdout",
          "text": [
            "Mounted at /content/drive\n"
          ]
        }
      ],
      "source": [
        "from google.colab import drive\n",
        "drive.mount('/content/drive')"
      ]
    },
    {
      "cell_type": "code",
      "source": [
        "%cd /content/drive/My Drive/Colab Notebooks/pytorch_dataset"
      ],
      "metadata": {
        "colab": {
          "base_uri": "https://localhost:8080/"
        },
        "id": "TVAQi37VR9WJ",
        "outputId": "eab814e3-3535-4f06-d42b-4ad68a221ff2"
      },
      "execution_count": 6,
      "outputs": [
        {
          "output_type": "stream",
          "name": "stdout",
          "text": [
            "/content/drive/My Drive/Colab Notebooks/pytorch_dataset\n"
          ]
        }
      ]
    },
    {
      "cell_type": "markdown",
      "source": [
        "Pytorch is a Python-based machine learning library. There are 2 major features in pytorch.\n",
        "\n",
        "\n",
        "*   It has the ability to efficiently perfomr tensor operations with hardware acceleration (GPU)\n",
        "*  It has the ability to build deep neural network\n",
        "\n",
        "Pytorch is a very popular library. \n"
      ],
      "metadata": {
        "id": "DzDiBRw8SyFh"
      }
    },
    {
      "cell_type": "code",
      "source": [
        "# conda install torch torchvision -c pytorch\n",
        "# Checking that pytorch is working properly\n",
        "import torch\n",
        "x= torch.tensor([3.,4.])"
      ],
      "metadata": {
        "id": "s9DtcMkHTVdn"
      },
      "execution_count": 1,
      "outputs": []
    },
    {
      "cell_type": "code",
      "source": [
        "print(x)"
      ],
      "metadata": {
        "colab": {
          "base_uri": "https://localhost:8080/"
        },
        "id": "Ou-YAX1iTuQt",
        "outputId": "9b6b1ffd-d2cc-409f-b09f-80d6c93bef49"
      },
      "execution_count": 2,
      "outputs": [
        {
          "output_type": "stream",
          "name": "stdout",
          "text": [
            "tensor([3., 4.])\n"
          ]
        }
      ]
    },
    {
      "cell_type": "markdown",
      "source": [
        "That means our pytorch is installed and working properly"
      ],
      "metadata": {
        "id": "rPbEjJFPT0xr"
      }
    },
    {
      "cell_type": "code",
      "source": [
        "# Perform some basic operations such as multiplication\n",
        "x= torch.tensor([3.,4.])\n",
        "y= torch.tensor([5.,6.])"
      ],
      "metadata": {
        "id": "PARzVypYT7vd"
      },
      "execution_count": 3,
      "outputs": []
    },
    {
      "cell_type": "code",
      "source": [
        "print(x*y)"
      ],
      "metadata": {
        "colab": {
          "base_uri": "https://localhost:8080/"
        },
        "id": "bvg6oNvWUJ7q",
        "outputId": "b1b8c51d-b674-4b32-8c5b-d456353bc542"
      },
      "execution_count": 4,
      "outputs": [
        {
          "output_type": "stream",
          "name": "stdout",
          "text": [
            "tensor([15., 24.])\n"
          ]
        }
      ]
    },
    {
      "cell_type": "markdown",
      "source": [
        "Tensors have a property known as order, which will determine the dimensionality of a tensor. \n",
        "\n",
        "An order one tensor is a tensor with a single dimension  which is equivalent to a vector or a list of numbers.\n",
        "\n",
        "An order 2 tensor with 2 dimensions is the same as a matrix and tensor of order 3 will have 3 dimension."
      ],
      "metadata": {
        "id": "jyd-VKR3UR4Z"
      }
    },
    {
      "cell_type": "markdown",
      "source": [
        "**A Neural Network with Pytorch**"
      ],
      "metadata": {
        "id": "CJwDoUouU4ID"
      }
    },
    {
      "cell_type": "code",
      "source": [
        "# load dataset\n",
        "import pandas as pd\n",
        "train= pd.read_csv(\"train.csv\")\n",
        "train_labels = train['label'].values"
      ],
      "metadata": {
        "id": "4JwMB2P_U8_X"
      },
      "execution_count": 7,
      "outputs": []
    },
    {
      "cell_type": "code",
      "source": [
        "# We need to reshape our input to (1,1,28,28). This is a tensor of 1000 x 1000 images. Each image has 28x28 pixel\n",
        "train = train.drop(\"label\", axis=1).values.reshape(len(train),1,28,28)"
      ],
      "metadata": {
        "id": "BKtiW35cVhMm"
      },
      "execution_count": 8,
      "outputs": []
    },
    {
      "cell_type": "code",
      "source": [
        "# training data and lables will be converted into tensor. It will help to feed them into neural network\n",
        "X = torch.Tensor(train.astype(float))\n",
        "y = torch.Tensor(train_labels).long()"
      ],
      "metadata": {
        "id": "2uMVcUMLV2Me"
      },
      "execution_count": 9,
      "outputs": []
    },
    {
      "cell_type": "markdown",
      "source": [
        "There are 2 tensors:\n",
        "\n",
        "\n",
        "*   The float tensor which has 32 bit floating points numbers\n",
        "*   The long tensor which has 64 bit integers\n",
        "\n",
        "\n",
        "The X variable has to be float as it will help Pytorch to compute gradients.\n",
        "\n",
        "The y variable which is our lables has to be integers because we will predict values of 1,2,3, and ..."
      ],
      "metadata": {
        "id": "Y9NLvnhvWOid"
      }
    },
    {
      "cell_type": "code",
      "source": [
        "# Our neural network\n",
        "class Classifier(nn.Module):\n",
        "  def __init__(self):\n",
        "    super().__init__()\n",
        "    self.fc1 = nn.Linear(784, 392)  # Our first layer has 784 inputs as the size of each image is 28x28\n",
        "    self.fc1 = nn.Linear(392, 196) # Second layer has 392 units as input\n",
        "    self.fc1 = nn.Linear(196, 98) # Third layer has 192\n",
        "    self.fc4 = nn.Linear(98, 10) # Output is the final layer and it has 10 units. The reason for that is we try to predict whether the image is a digit between 0 and 9\n",
        "    self.dropout = nn.Dropout(p=0.2) # Dropout is a way of regularizing our neural networks to prevent overfitting.\n",
        "  # define the forward pass\n",
        "  def forward(self, x): # The forward function willl define the path our input will take throughout the network\n",
        "    x = x.view(x.shape[0], -1)\n",
        "    x = x.dropout(F.relu(self.fc1(x)))\n",
        "    x = x.dropout(F.relu(self.fc2(x)))\n",
        "    x = x.dropout(F.relu(self.fc3(x)))\n",
        "    x = F.log_softmax(self.fc4(x), dim = 1)\n",
        "    # It will take our input x and reshape it for use within the neural netowrk, transform it into a 1-dimensional vector and then pass it through our fullly connected layer\n",
        "    # And then wrap it with ReLu activation function to make it non-linear\n",
        "    # After that, we will wrap it in our dropout which was defined in the init function.\n",
        "    # For the prediction layer we willl use the softmax layer because it will help us to calcualte the loss function much more easier."
      ],
      "metadata": {
        "id": "nvyqA1MsWw6A"
      },
      "execution_count": null,
      "outputs": []
    }
  ]
}