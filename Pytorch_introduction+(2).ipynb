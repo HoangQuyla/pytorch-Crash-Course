{
  "nbformat": 4,
  "nbformat_minor": 0,
  "metadata": {
    "colab": {
      "name": "Pytorch introduction.ipynb",
      "provenance": [],
      "collapsed_sections": []
    },
    "kernelspec": {
      "name": "python3",
      "display_name": "Python 3"
    },
    "language_info": {
      "name": "python"
    },
    "accelerator": "GPU"
  },
  "cells": [
    {
      "cell_type": "code",
      "execution_count": 1,
      "metadata": {
        "colab": {
          "base_uri": "https://localhost:8080/"
        },
        "id": "YD-gLKRjR3Nt",
        "outputId": "aeab2b15-6ca7-4618-b494-94b06cf1eb9d"
      },
      "outputs": [
        {
          "output_type": "stream",
          "name": "stdout",
          "text": [
            "Mounted at /content/drive\n"
          ]
        }
      ],
      "source": [
        "from google.colab import drive\n",
        "drive.mount('/content/drive')"
      ]
    },
    {
      "cell_type": "code",
      "source": [
        "%cd /content/drive/My Drive/Colab Notebooks/pytorch_dataset"
      ],
      "metadata": {
        "colab": {
          "base_uri": "https://localhost:8080/"
        },
        "id": "TVAQi37VR9WJ",
        "outputId": "2d92b4f9-e604-4a00-efbe-398e5bf1bb00"
      },
      "execution_count": 2,
      "outputs": [
        {
          "output_type": "stream",
          "name": "stdout",
          "text": [
            "/content/drive/My Drive/Colab Notebooks/pytorch_dataset\n"
          ]
        }
      ]
    },
    {
      "cell_type": "markdown",
      "source": [
        "Pytorch is a Python-based machine learning library. There are 2 major features in pytorch.\n",
        "\n",
        "\n",
        "*   It has the ability to efficiently perfomr tensor operations with hardware acceleration (GPU)\n",
        "*  It has the ability to build deep neural network\n",
        "\n",
        "Pytorch is a very popular library. \n"
      ],
      "metadata": {
        "id": "DzDiBRw8SyFh"
      }
    },
    {
      "cell_type": "code",
      "source": [
        "# conda install torch torchvision -c pytorch\n",
        "# Checking that pytorch is working properly\n",
        "import torch\n",
        "x= torch.tensor([3.,4.])"
      ],
      "metadata": {
        "id": "s9DtcMkHTVdn"
      },
      "execution_count": 3,
      "outputs": []
    },
    {
      "cell_type": "code",
      "source": [
        "print(x)"
      ],
      "metadata": {
        "colab": {
          "base_uri": "https://localhost:8080/"
        },
        "id": "Ou-YAX1iTuQt",
        "outputId": "20c2bfe9-af71-4142-8edd-b9e230aa20ea"
      },
      "execution_count": 4,
      "outputs": [
        {
          "output_type": "stream",
          "name": "stdout",
          "text": [
            "tensor([3., 4.])\n"
          ]
        }
      ]
    },
    {
      "cell_type": "markdown",
      "source": [
        "That means our pytorch is installed and working properly"
      ],
      "metadata": {
        "id": "rPbEjJFPT0xr"
      }
    },
    {
      "cell_type": "code",
      "source": [
        "# Perform some basic operations such as multiplication\n",
        "x= torch.tensor([3.,4.])\n",
        "y= torch.tensor([5.,6.])"
      ],
      "metadata": {
        "id": "PARzVypYT7vd"
      },
      "execution_count": 5,
      "outputs": []
    },
    {
      "cell_type": "code",
      "source": [
        "print(x*y)"
      ],
      "metadata": {
        "colab": {
          "base_uri": "https://localhost:8080/"
        },
        "id": "bvg6oNvWUJ7q",
        "outputId": "950edcc8-52f4-41d8-a8ea-a199c77ab1cf"
      },
      "execution_count": 6,
      "outputs": [
        {
          "output_type": "stream",
          "name": "stdout",
          "text": [
            "tensor([15., 24.])\n"
          ]
        }
      ]
    },
    {
      "cell_type": "markdown",
      "source": [
        "Tensors have a property known as order, which will determine the dimensionality of a tensor. \n",
        "\n",
        "An order one tensor is a tensor with a single dimension  which is equivalent to a vector or a list of numbers.\n",
        "\n",
        "An order 2 tensor with 2 dimensions is the same as a matrix and tensor of order 3 will have 3 dimension."
      ],
      "metadata": {
        "id": "jyd-VKR3UR4Z"
      }
    },
    {
      "cell_type": "markdown",
      "source": [
        "**A Neural Network with Pytorch**"
      ],
      "metadata": {
        "id": "CJwDoUouU4ID"
      }
    },
    {
      "cell_type": "code",
      "source": [
        "import numpy as np \n",
        "import pandas as pd \n",
        "\n",
        "import matplotlib.pyplot as plt\n",
        "\n",
        "from torch import nn, optim\n",
        "import torch.nn.functional as F\n",
        "import torch.utils.data as data\n",
        "import torch\n",
        "from torch.autograd import Variable\n"
      ],
      "metadata": {
        "id": "6Z_SsZZCANhr"
      },
      "execution_count": 7,
      "outputs": []
    },
    {
      "cell_type": "code",
      "source": [
        "# load dataset\n",
        "\n",
        "train= pd.read_csv(\"train.csv\")\n",
        "train_labels = train['label'].values"
      ],
      "metadata": {
        "id": "4JwMB2P_U8_X"
      },
      "execution_count": 8,
      "outputs": []
    },
    {
      "cell_type": "code",
      "source": [
        "plt.imshow(np.reshape(train.values[0][1:],(28,28)), cmap=plt.get_cmap('gray'))\n",
        "plt.show()"
      ],
      "metadata": {
        "colab": {
          "base_uri": "https://localhost:8080/",
          "height": 265
        },
        "id": "OOEVZ_bOAPjB",
        "outputId": "1c979755-08e9-4361-d073-6dfbe4561f47"
      },
      "execution_count": 9,
      "outputs": [
        {
          "output_type": "display_data",
          "data": {
            "image/png": "[encoded data removed]",
            "text/plain": [
              "<Figure size 432x288 with 1 Axes>"
            ]
          },
          "metadata": {
            "needs_background": "light"
          }
        }
      ]
    },
    {
      "cell_type": "code",
      "source": [
        "# We need to reshape our input to (1,1,28,28). This is a tensor of 1000 x 1000 images. Each image has 28x28 pixel\n",
        "train = train.drop(\"label\", axis=1).values.reshape(len(train),1,28,28)"
      ],
      "metadata": {
        "id": "BKtiW35cVhMm"
      },
      "execution_count": 10,
      "outputs": []
    },
    {
      "cell_type": "code",
      "source": [
        "# training data and lables will be converted into tensor. It will help to feed them into neural network\n",
        "X = torch.Tensor(train.astype(float))\n",
        "y = torch.Tensor(train_labels).long()"
      ],
      "metadata": {
        "id": "2uMVcUMLV2Me"
      },
      "execution_count": 11,
      "outputs": []
    },
    {
      "cell_type": "markdown",
      "source": [
        "There are 2 tensors:\n",
        "\n",
        "\n",
        "*   The float tensor which has 32 bit floating points numbers\n",
        "*   The long tensor which has 64 bit integers\n",
        "\n",
        "\n",
        "The X variable has to be float as it will help Pytorch to compute gradients.\n",
        "\n",
        "The y variable which is our lables has to be integers because we will predict values of 1,2,3, and ..."
      ],
      "metadata": {
        "id": "Y9NLvnhvWOid"
      }
    },
    {
      "cell_type": "code",
      "source": [
        "# Our neural network\n",
        "class Classifier(nn.Module):\n",
        "  def __init__(self):\n",
        "    super().__init__()\n",
        "    self.fc1 = nn.Linear(784, 392)  # Our first layer has 784 inputs as the size of each image is 28x28\n",
        "    self.fc2 = nn.Linear(392, 196) # Second layer has 392 units as input\n",
        "    self.fc3 = nn.Linear(196, 98) # Third layer has 192\n",
        "    self.fc4 = nn.Linear(98, 10) # Output is the final layer and it has 10 units. The reason for that is we try to predict whether the image is a digit between 0 and 9\n",
        "    self.dropout = nn.Dropout(p=0.2) # Dropout is a way of regularizing our neural networks to prevent overfitting.\n",
        "  # define the forward pass\n",
        "  def forward(self, x): # The forward function willl define the path our input will take throughout the network\n",
        "    x = x.view(x.shape[0], -1)\n",
        "    x = self.dropout(F.relu(self.fc1(x)))\n",
        "    x = self.dropout(F.relu(self.fc2(x)))\n",
        "    x = self.dropout(F.relu(self.fc3(x)))\n",
        "    x = F.log_softmax(self.fc4(x), dim=1)\n",
        "    # It will take our input x and reshape it for use within the neural netowrk, transform it into a 1-dimensional vector and then pass it through our fullly connected layer\n",
        "    # And then wrap it with ReLu activation function to make it non-linear\n",
        "    # After that, we will wrap it in our dropout which was defined in the init function.\n",
        "    # For the prediction layer we willl use the softmax layer because it will help us to calcualte the loss function much more easier.\n",
        "    return x"
      ],
      "metadata": {
        "id": "UlLQJvJi9QMm"
      },
      "execution_count": 12,
      "outputs": []
    },
    {
      "cell_type": "code",
      "source": [
        "# Setting the model parameters\n",
        "model = Classifier()\n",
        "loss_function = nn.NLLLoss()\n",
        "opt = optim.Adam(model.parameters(), lr=0.001)\n"
      ],
      "metadata": {
        "id": "t2O-VKkeCsW_"
      },
      "execution_count": 13,
      "outputs": []
    },
    {
      "cell_type": "code",
      "source": [
        "# Train our network\n",
        "# first we need to create a loop that runs once for each epoch of our training. Here we will run our training loop for 50 epochs. We will first take our input tensor of images\n",
        "# and our ouput tensor of labels and transform them into Pytorch variable\n",
        "\n",
        "# A vraible is a pytorch object that contains a backward() method which we can use to perform\n",
        "for epoch in range(50):\n",
        "  images = Variable(X)\n",
        "  labels = Variable(y)\n",
        "  # Next we will call zero_grad on our optimizer to set our calculated gradients to zero\n",
        "  # Within pytorch, gradients are calculated cumulatively on each back probagation.\n",
        "  # While this is useful in some models, such as when training RNN\n",
        "  # We wish to calcualte the gradients from scractch after each epoch to ensure to reset the gradients to 0 after each pass\n",
        "  opt.zero_grad()\n",
        "  # We will make usage of our model's current state to make predictions on our dataset. This is effectively our forward pass as we then use these prediction to calculate our loss\n",
        "  outputs = model(images)\n",
        "  # Using the outputs and the true labels of our dataset, we calculate the total lkoss of our model using the defined loss function, which is in this case is the negative log likelihood\n",
        "  loss = loss_function(outputs, labels)\n",
        "  loss.backward() # call the backprobagate our loss through the network.\n",
        "  opt.step()# we use step() using our optimizer in order to update our model parameter\n",
        "  # After each epoch is complted , we print the total loss\n",
        "  print ('Epoch [%d/%d] Loss: %.4f' %(epoch+1, 50, loss.data.item()))"
      ],
      "metadata": {
        "colab": {
          "base_uri": "https://localhost:8080/"
        },
        "id": "m1imC575DHxD",
        "outputId": "947ad9f8-7f80-4d80-8492-512446eb5bc6"
      },
      "execution_count": 14,
      "outputs": [
        {
          "output_type": "stream",
          "name": "stdout",
          "text": [
            "Epoch [1/50] Loss: 6.9915\n",
            "Epoch [2/50] Loss: 5.2564\n",
            "Epoch [3/50] Loss: 3.5733\n",
            "Epoch [4/50] Loss: 2.1558\n",
            "Epoch [5/50] Loss: 1.7156\n",
            "Epoch [6/50] Loss: 1.5959\n",
            "Epoch [7/50] Loss: 1.3826\n",
            "Epoch [8/50] Loss: 1.2024\n",
            "Epoch [9/50] Loss: 1.0980\n",
            "Epoch [10/50] Loss: 1.0364\n",
            "Epoch [11/50] Loss: 0.9210\n",
            "Epoch [12/50] Loss: 0.8468\n",
            "Epoch [13/50] Loss: 0.7607\n",
            "Epoch [14/50] Loss: 0.7212\n",
            "Epoch [15/50] Loss: 0.6314\n",
            "Epoch [16/50] Loss: 0.6085\n",
            "Epoch [17/50] Loss: 0.5740\n",
            "Epoch [18/50] Loss: 0.5529\n",
            "Epoch [19/50] Loss: 0.5155\n",
            "Epoch [20/50] Loss: 0.4626\n",
            "Epoch [21/50] Loss: 0.4435\n",
            "Epoch [22/50] Loss: 0.4070\n",
            "Epoch [23/50] Loss: 0.4054\n",
            "Epoch [24/50] Loss: 0.3890\n",
            "Epoch [25/50] Loss: 0.3324\n",
            "Epoch [26/50] Loss: 0.3508\n",
            "Epoch [27/50] Loss: 0.2791\n",
            "Epoch [28/50] Loss: 0.2729\n",
            "Epoch [29/50] Loss: 0.2473\n",
            "Epoch [30/50] Loss: 0.2655\n",
            "Epoch [31/50] Loss: 0.2195\n",
            "Epoch [32/50] Loss: 0.2147\n",
            "Epoch [33/50] Loss: 0.1904\n",
            "Epoch [34/50] Loss: 0.1903\n",
            "Epoch [35/50] Loss: 0.1760\n",
            "Epoch [36/50] Loss: 0.1717\n",
            "Epoch [37/50] Loss: 0.1423\n",
            "Epoch [38/50] Loss: 0.1532\n",
            "Epoch [39/50] Loss: 0.1315\n",
            "Epoch [40/50] Loss: 0.1256\n",
            "Epoch [41/50] Loss: 0.1393\n",
            "Epoch [42/50] Loss: 0.1153\n",
            "Epoch [43/50] Loss: 0.1144\n",
            "Epoch [44/50] Loss: 0.1149\n",
            "Epoch [45/50] Loss: 0.1061\n",
            "Epoch [46/50] Loss: 0.0839\n",
            "Epoch [47/50] Loss: 0.0771\n",
            "Epoch [48/50] Loss: 0.0845\n",
            "Epoch [49/50] Loss: 0.0786\n",
            "Epoch [50/50] Loss: 0.0758\n"
          ]
        }
      ]
    },
    {
      "cell_type": "markdown",
      "source": [
        "**Make prediction**"
      ],
      "metadata": {
        "id": "DiRUse5HlWDS"
      }
    },
    {
      "cell_type": "code",
      "source": [
        "test = pd.read_csv(\"test.csv\")\n",
        "test_labels = test['label'].values\n",
        "test = test.drop(\"label\",axis=1).values.reshape(len(test),1,28,28)\n",
        "\n",
        "X_test = torch.Tensor(test.astype(float))\n",
        "y_test = torch.Tensor(test_labels).long()"
      ],
      "metadata": {
        "id": "gIIZoON0lY87"
      },
      "execution_count": 19,
      "outputs": []
    },
    {
      "cell_type": "markdown",
      "source": [
        "Here we perform the same steps as the traing step and then our test data is reshaped and transformed into Pytorch tensor"
      ],
      "metadata": {
        "id": "Am414eAnl3_-"
      }
    },
    {
      "cell_type": "code",
      "source": [
        "preds = model(X_test)"
      ],
      "metadata": {
        "id": "eJc3171ol3oJ"
      },
      "execution_count": 20,
      "outputs": []
    },
    {
      "cell_type": "code",
      "source": [
        "print(preds[0])"
      ],
      "metadata": {
        "colab": {
          "base_uri": "https://localhost:8080/"
        },
        "id": "xZ_2BKGimHhE",
        "outputId": "ac57386f-d180-46f4-a1e1-54002ec1f878"
      },
      "execution_count": 21,
      "outputs": [
        {
          "output_type": "stream",
          "name": "stdout",
          "text": [
            "tensor([-12.0843, -10.5907,  -7.3982,  -9.0352,  -3.9644,  -8.5272,  -9.8707,\n",
            "         -8.8536,  -5.6918,  -0.0238], grad_fn=<SelectBackward0>)\n"
          ]
        }
      ]
    },
    {
      "cell_type": "markdown",
      "source": [
        "As you can see from the above result, our prediction is a vector of length 10, with a prediction for each possible classes. \n",
        "\n",
        "The on ewith the highest predicted value is one our model chooses as its predictions.\n",
        "\n",
        "As we used the log softmax, our predictions will not be raw probabilies. To convert it, we need to transform using x"
      ],
      "metadata": {
        "id": "s2GnQpovmNPh"
      }
    },
    {
      "cell_type": "code",
      "source": [
        "# Construct a summary dataframe\n",
        "_, predictionlabel = torch.max(preds.data, 1)\n",
        "predictionlabel = predictionlabel.tolist()\n",
        "\n",
        "predictionlabel = pd.Series(predictionlabel)\n",
        "test_labels = pd.Series(test_labels)\n",
        "\n",
        "pred_table = pd.concat([predictionlabel, test_labels], axis=1)\n",
        "pred_table.columns =['Predicted Value', 'True Value']\n",
        "\n",
        "display(pred_table.head())"
      ],
      "metadata": {
        "colab": {
          "base_uri": "https://localhost:8080/",
          "height": 206
        },
        "id": "UTMBzBoUmtRH",
        "outputId": "ef6756fe-af8e-4ffd-d788-ceee36c2d4b6"
      },
      "execution_count": 22,
      "outputs": [
        {
          "output_type": "display_data",
          "data": {
            "text/html": [
              "\n",
              "  <div id=\"df-3203bcd9-6392-46db-beee-d439bf76f380\">\n",
              "    <div class=\"colab-df-container\">\n",
              "      <div>\n",
              "<style scoped>\n",
              "    .dataframe tbody tr th:only-of-type {\n",
              "        vertical-align: middle;\n",
              "    }\n",
              "\n",
              "    .dataframe tbody tr th {\n",
              "        vertical-align: top;\n",
              "    }\n",
              "\n",
              "    .dataframe thead th {\n",
              "        text-align: right;\n",
              "    }\n",
              "</style>\n",
              "<table border=\"1\" class=\"dataframe\">\n",
              "  <thead>\n",
              "    <tr style=\"text-align: right;\">\n",
              "      <th></th>\n",
              "      <th>Predicted Value</th>\n",
              "      <th>True Value</th>\n",
              "    </tr>\n",
              "  </thead>\n",
              "  <tbody>\n",
              "    <tr>\n",
              "      <th>0</th>\n",
              "      <td>9</td>\n",
              "      <td>9</td>\n",
              "    </tr>\n",
              "    <tr>\n",
              "      <th>1</th>\n",
              "      <td>6</td>\n",
              "      <td>5</td>\n",
              "    </tr>\n",
              "    <tr>\n",
              "      <th>2</th>\n",
              "      <td>2</td>\n",
              "      <td>2</td>\n",
              "    </tr>\n",
              "    <tr>\n",
              "      <th>3</th>\n",
              "      <td>4</td>\n",
              "      <td>4</td>\n",
              "    </tr>\n",
              "    <tr>\n",
              "      <th>4</th>\n",
              "      <td>1</td>\n",
              "      <td>1</td>\n",
              "    </tr>\n",
              "  </tbody>\n",
              "</table>\n",
              "</div>\n",
              "      <button class=\"colab-df-convert\" onclick=\"convertToInteractive('df-3203bcd9-6392-46db-beee-d439bf76f380')\"\n",
              "              title=\"Convert this dataframe to an interactive table.\"\n",
              "              style=\"display:none;\">\n",
              "        \n",
              "  <svg xmlns=\"http://www.w3.org/2000/svg\" height=\"24px\"viewBox=\"0 0 24 24\"\n",
              "       width=\"24px\">\n",
              "    <path d=\"M0 0h24v24H0V0z\" fill=\"none\"/>\n",
              "    <path d=\"M18.56 5.44l.94 2.06.94-2.06 2.06-.94-2.06-.94-.94-2.06-.94 2.06-2.06.94zm-11 1L8.5 8.5l.94-2.06 2.06-.94-2.06-.94L8.5 2.5l-.94 2.06-2.06.94zm10 10l.94 2.06.94-2.06 2.06-.94-2.06-.94-.94-2.06-.94 2.06-2.06.94z\"/><path d=\"M17.41 7.96l-1.37-1.37c-.4-.4-.92-.59-1.43-.59-.52 0-1.04.2-1.43.59L10.3 9.45l-7.72 7.72c-.78.78-.78 2.05 0 2.83L4 21.41c.39.39.9.59 1.41.59.51 0 1.02-.2 1.41-.59l7.78-7.78 2.81-2.81c.8-.78.8-2.07 0-2.86zM5.41 20L4 18.59l7.72-7.72 1.47 1.35L5.41 20z\"/>\n",
              "  </svg>\n",
              "      </button>\n",
              "      \n",
              "  <style>\n",
              "    .colab-df-container {\n",
              "      display:flex;\n",
              "      flex-wrap:wrap;\n",
              "      gap: 12px;\n",
              "    }\n",
              "\n",
              "    .colab-df-convert {\n",
              "      background-color: #E8F0FE;\n",
              "      border: none;\n",
              "      border-radius: 50%;\n",
              "      cursor: pointer;\n",
              "      display: none;\n",
              "      fill: #1967D2;\n",
              "      height: 32px;\n",
              "      padding: 0 0 0 0;\n",
              "      width: 32px;\n",
              "    }\n",
              "\n",
              "    .colab-df-convert:hover {\n",
              "      background-color: #E2EBFA;\n",
              "      box-shadow: 0px 1px 2px rgba(60, 64, 67, 0.3), 0px 1px 3px 1px rgba(60, 64, 67, 0.15);\n",
              "      fill: #174EA6;\n",
              "    }\n",
              "\n",
              "    [theme=dark] .colab-df-convert {\n",
              "      background-color: #3B4455;\n",
              "      fill: #D2E3FC;\n",
              "    }\n",
              "\n",
              "    [theme=dark] .colab-df-convert:hover {\n",
              "      background-color: #434B5C;\n",
              "      box-shadow: 0px 1px 3px 1px rgba(0, 0, 0, 0.15);\n",
              "      filter: drop-shadow(0px 1px 2px rgba(0, 0, 0, 0.3));\n",
              "      fill: #FFFFFF;\n",
              "    }\n",
              "  </style>\n",
              "\n",
              "      <script>\n",
              "        const buttonEl =\n",
              "          document.querySelector('#df-3203bcd9-6392-46db-beee-d439bf76f380 button.colab-df-convert');\n",
              "        buttonEl.style.display =\n",
              "          google.colab.kernel.accessAllowed ? 'block' : 'none';\n",
              "\n",
              "        async function convertToInteractive(key) {\n",
              "          const element = document.querySelector('#df-3203bcd9-6392-46db-beee-d439bf76f380');\n",
              "          const dataTable =\n",
              "            await google.colab.kernel.invokeFunction('convertToInteractive',\n",
              "                                                     [key], {});\n",
              "          if (!dataTable) return;\n",
              "\n",
              "          const docLinkHtml = 'Like what you see? Visit the ' +\n",
              "            '<a target=\"_blank\" href=https://colab.research.google.com/notebooks/data_table.ipynb>data table notebook</a>'\n",
              "            + ' to learn more about interactive tables.';\n",
              "          element.innerHTML = '';\n",
              "          dataTable['output_type'] = 'display_data';\n",
              "          await google.colab.output.renderOutput(dataTable, element);\n",
              "          const docLink = document.createElement('div');\n",
              "          docLink.innerHTML = docLinkHtml;\n",
              "          element.appendChild(docLink);\n",
              "        }\n",
              "      </script>\n",
              "    </div>\n",
              "  </div>\n",
              "  "
            ],
            "text/plain": [
              "   Predicted Value  True Value\n",
              "0                9           9\n",
              "1                6           5\n",
              "2                2           2\n",
              "3                4           4\n",
              "4                1           1"
            ]
          },
          "metadata": {}
        }
      ]
    },
    {
      "cell_type": "code",
      "source": [
        "# Evaluating our model\n",
        "preds = len(predictionlabel)\n",
        "correct = len([1 for x,y in zip(predictionlabel, test_labels) if x==y])\n",
        "print((correct/preds)*100)"
      ],
      "metadata": {
        "colab": {
          "base_uri": "https://localhost:8080/"
        },
        "id": "3b4NrqQJn3k6",
        "outputId": "e77185ad-435f-4c77-b750-92fb17a28c15"
      },
      "execution_count": 23,
      "outputs": [
        {
          "output_type": "stream",
          "name": "stdout",
          "text": [
            "87.0\n"
          ]
        }
      ]
    },
    {
      "cell_type": "markdown",
      "source": [
        "Our simple neural network has been able to identify 87% of the unseen digit images."
      ],
      "metadata": {
        "id": "NH_F4zCnoUyw"
      }
    }
  ]
}