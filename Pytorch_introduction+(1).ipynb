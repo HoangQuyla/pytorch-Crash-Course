{
  "nbformat": 4,
  "nbformat_minor": 0,
  "metadata": {
    "colab": {
      "name": "Pytorch introduction.ipynb",
      "provenance": [],
      "collapsed_sections": []
    },
    "kernelspec": {
      "name": "python3",
      "display_name": "Python 3"
    },
    "language_info": {
      "name": "python"
    }
  },
  "cells": [
    {
      "cell_type": "code",
      "execution_count": 1,
      "metadata": {
        "colab": {
          "base_uri": "https://localhost:8080/"
        },
        "id": "YD-gLKRjR3Nt",
        "outputId": "634fc1ab-23a1-4cc6-c8b0-e3b69ba75f76"
      },
      "outputs": [
        {
          "output_type": "stream",
          "name": "stdout",
          "text": [
            "Mounted at /content/drive\n"
          ]
        }
      ],
      "source": [
        "from google.colab import drive\n",
        "drive.mount('/content/drive')"
      ]
    },
    {
      "cell_type": "code",
      "source": [
        "%cd /content/drive/My Drive/Colab Notebooks/pytorch_dataset"
      ],
      "metadata": {
        "colab": {
          "base_uri": "https://localhost:8080/"
        },
        "id": "TVAQi37VR9WJ",
        "outputId": "fe8b8870-b835-45d0-e1bf-7151df05a02b"
      },
      "execution_count": 2,
      "outputs": [
        {
          "output_type": "stream",
          "name": "stdout",
          "text": [
            "/content/drive/My Drive/Colab Notebooks/pytorch_dataset\n"
          ]
        }
      ]
    },
    {
      "cell_type": "markdown",
      "source": [
        "Pytorch is a Python-based machine learning library. There are 2 major features in pytorch.\n",
        "\n",
        "\n",
        "*   It has the ability to efficiently perfomr tensor operations with hardware acceleration (GPU)\n",
        "*  It has the ability to build deep neural network\n",
        "\n",
        "Pytorch is a very popular library. \n"
      ],
      "metadata": {
        "id": "DzDiBRw8SyFh"
      }
    },
    {
      "cell_type": "code",
      "source": [
        "# conda install torch torchvision -c pytorch\n",
        "# Checking that pytorch is working properly\n",
        "import torch\n",
        "x= torch.tensor([3.,4.])"
      ],
      "metadata": {
        "id": "s9DtcMkHTVdn"
      },
      "execution_count": 3,
      "outputs": []
    },
    {
      "cell_type": "code",
      "source": [
        "print(x)"
      ],
      "metadata": {
        "colab": {
          "base_uri": "https://localhost:8080/"
        },
        "id": "Ou-YAX1iTuQt",
        "outputId": "a39372bc-e950-4c71-eeb4-41d8a293f29c"
      },
      "execution_count": 4,
      "outputs": [
        {
          "output_type": "stream",
          "name": "stdout",
          "text": [
            "tensor([3., 4.])\n"
          ]
        }
      ]
    },
    {
      "cell_type": "markdown",
      "source": [
        "That means our pytorch is installed and working properly"
      ],
      "metadata": {
        "id": "rPbEjJFPT0xr"
      }
    },
    {
      "cell_type": "code",
      "source": [
        "# Perform some basic operations such as multiplication\n",
        "x= torch.tensor([3.,4.])\n",
        "y= torch.tensor([5.,6.])"
      ],
      "metadata": {
        "id": "PARzVypYT7vd"
      },
      "execution_count": 5,
      "outputs": []
    },
    {
      "cell_type": "code",
      "source": [
        "print(x*y)"
      ],
      "metadata": {
        "colab": {
          "base_uri": "https://localhost:8080/"
        },
        "id": "bvg6oNvWUJ7q",
        "outputId": "d49c8025-64cd-4214-a2c9-ec32db6688bb"
      },
      "execution_count": 6,
      "outputs": [
        {
          "output_type": "stream",
          "name": "stdout",
          "text": [
            "tensor([15., 24.])\n"
          ]
        }
      ]
    },
    {
      "cell_type": "markdown",
      "source": [
        "Tensors have a property known as order, which will determine the dimensionality of a tensor. \n",
        "\n",
        "An order one tensor is a tensor with a single dimension  which is equivalent to a vector or a list of numbers.\n",
        "\n",
        "An order 2 tensor with 2 dimensions is the same as a matrix and tensor of order 3 will have 3 dimension."
      ],
      "metadata": {
        "id": "jyd-VKR3UR4Z"
      }
    },
    {
      "cell_type": "markdown",
      "source": [
        "**A Neural Network with Pytorch**"
      ],
      "metadata": {
        "id": "CJwDoUouU4ID"
      }
    },
    {
      "cell_type": "code",
      "source": [
        "import numpy as np \n",
        "import pandas as pd \n",
        "\n",
        "import matplotlib.pyplot as plt\n",
        "\n",
        "from torch import nn, optim\n",
        "import torch.nn.functional as F\n",
        "import torch.utils.data as data\n",
        "import torch\n",
        "from torch.autograd import Variable\n"
      ],
      "metadata": {
        "id": "6Z_SsZZCANhr"
      },
      "execution_count": 16,
      "outputs": []
    },
    {
      "cell_type": "code",
      "source": [
        "# load dataset\n",
        "\n",
        "train= pd.read_csv(\"train.csv\")\n",
        "train_labels = train['label'].values"
      ],
      "metadata": {
        "id": "4JwMB2P_U8_X"
      },
      "execution_count": 17,
      "outputs": []
    },
    {
      "cell_type": "code",
      "source": [
        "plt.imshow(np.reshape(train.values[0][1:],(28,28)), cmap=plt.get_cmap('gray'))\n",
        "plt.show()"
      ],
      "metadata": {
        "colab": {
          "base_uri": "https://localhost:8080/",
          "height": 265
        },
        "id": "OOEVZ_bOAPjB",
        "outputId": "2036b382-77f4-4ee5-f34a-bdc39e42af91"
      },
      "execution_count": 18,
      "outputs": [
        {
          "output_type": "display_data",
          "data": {
            "image/png": "[encoded data removed]",
            "text/plain": [
              "<Figure size 432x288 with 1 Axes>"
            ]
          },
          "metadata": {
            "needs_background": "light"
          }
        }
      ]
    },
    {
      "cell_type": "code",
      "source": [
        "# We need to reshape our input to (1,1,28,28). This is a tensor of 1000 x 1000 images. Each image has 28x28 pixel\n",
        "train = train.drop(\"label\", axis=1).values.reshape(len(train),1,28,28)"
      ],
      "metadata": {
        "id": "BKtiW35cVhMm"
      },
      "execution_count": 19,
      "outputs": []
    },
    {
      "cell_type": "code",
      "source": [
        "# training data and lables will be converted into tensor. It will help to feed them into neural network\n",
        "X = torch.Tensor(train.astype(float))\n",
        "y = torch.Tensor(train_labels).long()"
      ],
      "metadata": {
        "id": "2uMVcUMLV2Me"
      },
      "execution_count": 20,
      "outputs": []
    },
    {
      "cell_type": "markdown",
      "source": [
        "There are 2 tensors:\n",
        "\n",
        "\n",
        "*   The float tensor which has 32 bit floating points numbers\n",
        "*   The long tensor which has 64 bit integers\n",
        "\n",
        "\n",
        "The X variable has to be float as it will help Pytorch to compute gradients.\n",
        "\n",
        "The y variable which is our lables has to be integers because we will predict values of 1,2,3, and ..."
      ],
      "metadata": {
        "id": "Y9NLvnhvWOid"
      }
    },
    {
      "cell_type": "code",
      "source": [
        "# Our neural network\n",
        "class Classifier(nn.Module):\n",
        "  def __init__(self):\n",
        "    super().__init__()\n",
        "    self.fc1 = nn.Linear(784, 392)  # Our first layer has 784 inputs as the size of each image is 28x28\n",
        "    self.fc2 = nn.Linear(392, 196) # Second layer has 392 units as input\n",
        "    self.fc3 = nn.Linear(196, 98) # Third layer has 192\n",
        "    self.fc4 = nn.Linear(98, 10) # Output is the final layer and it has 10 units. The reason for that is we try to predict whether the image is a digit between 0 and 9\n",
        "    self.dropout = nn.Dropout(p=0.2) # Dropout is a way of regularizing our neural networks to prevent overfitting.\n",
        "  # define the forward pass\n",
        "  def forward(self, x): # The forward function willl define the path our input will take throughout the network\n",
        "    x = x.view(x.shape[0], -1)\n",
        "    x = self.dropout(F.relu(self.fc1(x)))\n",
        "    x = self.dropout(F.relu(self.fc2(x)))\n",
        "    x = self.dropout(F.relu(self.fc3(x)))\n",
        "    x = F.log_softmax(self.fc4(x), dim=1)\n",
        "    # It will take our input x and reshape it for use within the neural netowrk, transform it into a 1-dimensional vector and then pass it through our fullly connected layer\n",
        "    # And then wrap it with ReLu activation function to make it non-linear\n",
        "    # After that, we will wrap it in our dropout which was defined in the init function.\n",
        "    # For the prediction layer we willl use the softmax layer because it will help us to calcualte the loss function much more easier.\n",
        "    return x"
      ],
      "metadata": {
        "id": "UlLQJvJi9QMm"
      },
      "execution_count": 21,
      "outputs": []
    },
    {
      "cell_type": "code",
      "source": [
        "# Setting the model parameters\n",
        "model = Classifier()\n",
        "loss_function = nn.NLLLoss()\n",
        "opt = optim.Adam(model.parameters(), lr=0.001)\n"
      ],
      "metadata": {
        "id": "t2O-VKkeCsW_"
      },
      "execution_count": 22,
      "outputs": []
    },
    {
      "cell_type": "code",
      "source": [
        "# Train our network\n",
        "# first we need to create a loop that runs once for each epoch of our training. Here we will run our training loop for 50 epochs. We will first take our input tensor of images\n",
        "# and our ouput tensor of labels and transform them into Pytorch variable\n",
        "\n",
        "# A vraible is a pytorch object that contains a backward() method which we can use to perform\n",
        "for epoch in range(50):\n",
        "  images = Variable(X)\n",
        "  labels = Variable(y)\n",
        "  # Next we will call zero_grad on our optimizer to set our calculated gradients to zero\n",
        "  # Within pytorch, gradients are calculated cumulatively on each back probagation.\n",
        "  # While this is useful in some models, such as when training RNN\n",
        "  # We wish to calcualte the gradients from scractch after each epoch to ensure to reset the gradients to 0 after each pass\n",
        "  opt.zero_grad()\n",
        "  # We will make usage of our model's current state to make predictions on our dataset. This is effectively our forward pass as we then use these prediction to calculate our loss\n",
        "  outputs = model(images)\n",
        "  # Using the outputs and the true labels of our dataset, we calculate the total lkoss of our model using the defined loss function, which is in this case is the negative log likelihood\n",
        "  loss = loss_function(outputs, labels)\n",
        "  loss.backward() # call the backprobagate our loss through the network.\n",
        "  opt.step()# we use step() using our optimizer in order to update our model parameter\n",
        "  # After each epoch is complted , we print the total loss\n",
        "  print ('Epoch [%d/%d] Loss: %.4f' %(epoch+1, 50, loss.data.item()))"
      ],
      "metadata": {
        "colab": {
          "base_uri": "https://localhost:8080/"
        },
        "id": "m1imC575DHxD",
        "outputId": "1ea1751d-087a-43c8-a92e-7b6c1f8e6dd3"
      },
      "execution_count": 24,
      "outputs": [
        {
          "output_type": "stream",
          "name": "stdout",
          "text": [
            "Epoch [1/50] Loss: 8.0142\n",
            "Epoch [2/50] Loss: 4.6022\n",
            "Epoch [3/50] Loss: 3.0787\n",
            "Epoch [4/50] Loss: 2.0634\n",
            "Epoch [5/50] Loss: 1.7566\n",
            "Epoch [6/50] Loss: 1.5788\n",
            "Epoch [7/50] Loss: 1.4589\n",
            "Epoch [8/50] Loss: 1.3035\n",
            "Epoch [9/50] Loss: 1.0908\n",
            "Epoch [10/50] Loss: 1.0417\n",
            "Epoch [11/50] Loss: 0.9134\n",
            "Epoch [12/50] Loss: 0.8579\n",
            "Epoch [13/50] Loss: 0.8356\n",
            "Epoch [14/50] Loss: 0.6704\n",
            "Epoch [15/50] Loss: 0.6833\n",
            "Epoch [16/50] Loss: 0.6141\n",
            "Epoch [17/50] Loss: 0.6157\n",
            "Epoch [18/50] Loss: 0.5158\n",
            "Epoch [19/50] Loss: 0.5403\n",
            "Epoch [20/50] Loss: 0.4503\n",
            "Epoch [21/50] Loss: 0.4425\n",
            "Epoch [22/50] Loss: 0.4230\n",
            "Epoch [23/50] Loss: 0.4009\n",
            "Epoch [24/50] Loss: 0.3694\n",
            "Epoch [25/50] Loss: 0.3070\n",
            "Epoch [26/50] Loss: 0.3109\n",
            "Epoch [27/50] Loss: 0.2675\n",
            "Epoch [28/50] Loss: 0.2944\n",
            "Epoch [29/50] Loss: 0.2464\n",
            "Epoch [30/50] Loss: 0.2437\n",
            "Epoch [31/50] Loss: 0.2207\n",
            "Epoch [32/50] Loss: 0.2264\n",
            "Epoch [33/50] Loss: 0.1853\n",
            "Epoch [34/50] Loss: 0.2110\n",
            "Epoch [35/50] Loss: 0.1665\n",
            "Epoch [36/50] Loss: 0.1800\n",
            "Epoch [37/50] Loss: 0.1385\n",
            "Epoch [38/50] Loss: 0.1471\n",
            "Epoch [39/50] Loss: 0.1222\n",
            "Epoch [40/50] Loss: 0.1358\n",
            "Epoch [41/50] Loss: 0.1059\n",
            "Epoch [42/50] Loss: 0.1073\n",
            "Epoch [43/50] Loss: 0.1022\n",
            "Epoch [44/50] Loss: 0.1030\n",
            "Epoch [45/50] Loss: 0.0853\n",
            "Epoch [46/50] Loss: 0.1130\n",
            "Epoch [47/50] Loss: 0.0777\n",
            "Epoch [48/50] Loss: 0.0929\n",
            "Epoch [49/50] Loss: 0.0630\n",
            "Epoch [50/50] Loss: 0.0460\n"
          ]
        }
      ]
    }
  ]
}